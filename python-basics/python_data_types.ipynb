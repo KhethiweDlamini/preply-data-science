{
  "nbformat": 4,
  "nbformat_minor": 0,
  "metadata": {
    "colab": {
      "provenance": [],
      "authorship_tag": "ABX9TyP9gRy4b/STxO/mTyy6pc/u",
      "include_colab_link": true
    },
    "kernelspec": {
      "name": "python3",
      "display_name": "Python 3"
    },
    "language_info": {
      "name": "python"
    }
  },
  "cells": [
    {
      "cell_type": "markdown",
      "metadata": {
        "id": "view-in-github",
        "colab_type": "text"
      },
      "source": [
        "<a href=\"https://colab.research.google.com/github/KhethiweDlamini/preply-data-science/blob/main/python-basics/python_data_types.ipynb\" target=\"_parent\"><img src=\"https://colab.research.google.com/assets/colab-badge.svg\" alt=\"Open In Colab\"/></a>"
      ]
    },
    {
      "cell_type": "markdown",
      "source": [
        "# Python Data Types\n",
        "\n",
        "In this notebook, we will explore the four main groups of data types used in Python 🐍. These are:\n",
        "1. Numeric data types\n",
        "2. Boolean data types\n",
        "3. String data types\n",
        "4. Sequence data types\n"
      ],
      "metadata": {
        "id": "k9nqzmyTGU6O"
      }
    },
    {
      "cell_type": "markdown",
      "source": [
        "## **Numeric Data Types**\n",
        "Numeric data types can either be of type integer (int), i.e., negative and positive whole numbers as well as zero. Or, they can be of type float, in which case numerical values can include decimals."
      ],
      "metadata": {
        "id": "v1Eki9r5HF-H"
      }
    },
    {
      "cell_type": "code",
      "execution_count": null,
      "metadata": {
        "id": "6bE_OY-VF8S6",
        "colab": {
          "base_uri": "https://localhost:8080/"
        },
        "outputId": "bcee39b8-b87d-426a-e717-1f0d2ecfb134"
      },
      "outputs": [
        {
          "output_type": "execute_result",
          "data": {
            "text/plain": [
              "int"
            ]
          },
          "metadata": {},
          "execution_count": 1
        }
      ],
      "source": [
        "a = 10\n",
        "type(a)"
      ]
    },
    {
      "cell_type": "markdown",
      "source": [],
      "metadata": {
        "id": "b1gPOKhWI4Q_"
      }
    },
    {
      "cell_type": "code",
      "source": [
        "b = 2.54\n",
        "type(b)"
      ],
      "metadata": {
        "colab": {
          "base_uri": "https://localhost:8080/"
        },
        "id": "hsKJkp8nHjdo",
        "outputId": "889cf447-99be-4a2c-c182-fc87b05e06dd"
      },
      "execution_count": null,
      "outputs": [
        {
          "output_type": "execute_result",
          "data": {
            "text/plain": [
              "float"
            ]
          },
          "metadata": {},
          "execution_count": 2
        }
      ]
    }
  ]
}